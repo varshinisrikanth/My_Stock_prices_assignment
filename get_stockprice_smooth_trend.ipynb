{
  "cells": [
    {
      "cell_type": "markdown",
      "metadata": {
        "id": "view-in-github",
        "colab_type": "text"
      },
      "source": [
        "<a href=\"https://colab.research.google.com/github/varshinisrikanth/My_Stock_prices_assignment/blob/main/get_stockprice_smooth_trend.ipynb\" target=\"_parent\"><img src=\"https://colab.research.google.com/assets/colab-badge.svg\" alt=\"Open In Colab\"/></a>"
      ]
    },
    {
      "cell_type": "code",
      "execution_count": null,
      "metadata": {
        "id": "GxXzTz6zVR1W"
      },
      "outputs": [],
      "source": [
        "import numpy as np\n",
        "import pandas as pd\n",
        "\n",
        "import matplotlib.pyplot as plt\n",
        "from matplotlib import style"
      ]
    },
    {
      "cell_type": "code",
      "source": [
        "from google.colab import drive\n",
        "drive.mount('/content/drive')"
      ],
      "metadata": {
        "id": "EsHMjO1-Vp7X"
      },
      "execution_count": null,
      "outputs": []
    },
    {
      "cell_type": "code",
      "source": [
        "directory = '/content/drive/MyDrive/My_assignments/ALA'\n",
        "filename = 'GOOG.csv'"
      ],
      "metadata": {
        "id": "tijcBYwvWbkh"
      },
      "execution_count": null,
      "outputs": []
    },
    {
      "cell_type": "code",
      "execution_count": null,
      "metadata": {
        "id": "pqdX1-prVR1b"
      },
      "outputs": [],
      "source": [
        "df_google = pd.read_csv(directory+\"/\"+filename)\n",
        "df_google.head()"
      ]
    },
    {
      "cell_type": "code",
      "execution_count": null,
      "metadata": {
        "id": "B6fMuRkTVR1c"
      },
      "outputs": [],
      "source": [
        "df_google.info() # check the data types in google csv dataframe"
      ]
    },
    {
      "cell_type": "code",
      "execution_count": null,
      "metadata": {
        "id": "qqtjeOJWVR1d"
      },
      "outputs": [],
      "source": [
        "df_google.dtypes # short - check the data types in google csv dataframe"
      ]
    },
    {
      "cell_type": "code",
      "execution_count": null,
      "metadata": {
        "id": "FzgqLiWiVR1e"
      },
      "outputs": [],
      "source": [
        "df_google['date'] = pd.to_datetime(df_google['date'], format='%Y-%m-%d')\n",
        "df_google.info()"
      ]
    },
    {
      "cell_type": "code",
      "execution_count": null,
      "metadata": {
        "id": "0FXigkq4VR1e"
      },
      "outputs": [],
      "source": [
        "style.use(\"ggplot\")\n",
        "df_google.plot(x=\"date\", y=\"close\", figsize=(16,8))\n",
        "plt.show()"
      ]
    },
    {
      "cell_type": "code",
      "source": [
        "def calculate_moving_average(data, window_size):\n",
        "    moving_avg = []\n",
        "    for i in range(len(data)):\n",
        "        start_idx = max(0, i - window_size + 1)\n",
        "        end_idx = i + 1\n",
        "        window = data[start_idx:end_idx]\n",
        "        avg = np.mean(window)\n",
        "        moving_avg.append(avg)\n",
        "    return moving_avg\n",
        "\n",
        "window_size = 100\n",
        "close_prices = df_google[\"close\"].values\n",
        "moving_avg = calculate_moving_average(close_prices, window_size)"
      ],
      "metadata": {
        "id": "tKqxGL83bJnb"
      },
      "execution_count": null,
      "outputs": []
    },
    {
      "cell_type": "code",
      "execution_count": null,
      "metadata": {
        "id": "iqbB-0LcVR1f"
      },
      "outputs": [],
      "source": [
        "plt.figure(figsize=(16,8))\n",
        "plt.plot(df_google[\"date\"], moving_avg, label = \"Smooth Curve\")\n",
        "plt.xlabel(\"date\")\n",
        "plt.ylabel(\"close\")\n",
        "plt.legend()\n",
        "plt.show()"
      ]
    }
  ],
  "metadata": {
    "kernelspec": {
      "display_name": "quickstart",
      "language": "python",
      "name": "python3"
    },
    "language_info": {
      "codemirror_mode": {
        "name": "ipython",
        "version": 3
      },
      "file_extension": ".py",
      "mimetype": "text/x-python",
      "name": "python",
      "nbconvert_exporter": "python",
      "pygments_lexer": "ipython3",
      "version": "3.9.17"
    },
    "orig_nbformat": 4,
    "colab": {
      "provenance": [],
      "include_colab_link": true
    }
  },
  "nbformat": 4,
  "nbformat_minor": 0
}